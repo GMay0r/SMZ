{
 "cells": [
  {
   "cell_type": "markdown",
   "id": "1c5bfc05",
   "metadata": {},
   "source": [
    "### Разработка нейросетевых функций. Операция Convolution 2D"
   ]
  },
  {
   "cell_type": "markdown",
   "id": "3e4fcf74",
   "metadata": {},
   "source": [
    "#### Описание параметров"
   ]
  },
  {
   "cell_type": "markdown",
   "id": "136b8eea",
   "metadata": {},
   "source": [
    "in_channels (int) – Number of channels in the input image\\\n",
    "out_channels (int) – Number of channels produced by the convolution\\\n",
    "kernel_size (int or tuple) – Size of the convolving kernel\\\n",
    "stride (int or tuple, optional) – Stride of the convolution. Default: 1\\\n",
    "padding (int, tuple or str, optional) – Padding added to all four sides of the input. Default: 0\\\n",
    "padding_mode (str, optional) – 'zeros', 'reflect', 'replicate' or 'circular'. Default: 'zeros'\\\n",
    "dilation (int or tuple, optional) – Spacing between kernel elements. Default: 1\\\n",
    "groups (int, optional) – Number of blocked connections from input channels to output channels. Default: 1\\\n",
    "bias (bool, optional) – If True, adds a learnable bias to the output. Default: True\\"
   ]
  },
  {
   "cell_type": "code",
   "execution_count": 1,
   "id": "3231cac3",
   "metadata": {},
   "outputs": [],
   "source": [
    "import torch\n",
    "import numpy as np\n",
    "def myConv2d(in_channels, out_channels, kernel_size, stride=1, padding=0, \n",
    "             dilation=1, groups=1, bias=True, padding_mode='zeros'):\n",
    "    def Conv(matrix):\n",
    "        if (in_channels%groups != 0) or (out_channels%groups!=0):\n",
    "            raise Exception('in_channel и out_channel не делятся на группы!')\n",
    "    \n",
    "        if bias == True:\n",
    "            bias_val = torch.rand(out_channels)\n",
    "        else:\n",
    "            bias_val = torch.zeros(out_channels)\n",
    "\n",
    "        if (padding_mode == 'zeros'):\n",
    "            pad = torch.nn.ZeroPad2d(padding)\n",
    "            matrix = pad(matrix)\n",
    "        if (padding_mode == 'reflect'):\n",
    "            pad = torch.nn.ReflectionPad2d(padding)\n",
    "            matrix = pad(matrix)\n",
    "        if (padding_mode == 'replicate'):\n",
    "            pad = torch.nn.ReplicationPad2d(2)\n",
    "            matrix = pad(matrix)\n",
    "        if (padding_mode == 'circular'):\n",
    "            pad = torch.nn.CircularPad2d(padding)\n",
    "            matrix = pad(matrix)\n",
    "\n",
    "        if type(kernel_size) == tuple:\n",
    "            filter = torch.rand(out_channels, in_channels//groups, kernel_size[0], kernel_size[1])\n",
    "        if type(kernel_size) == int:\n",
    "            filter = torch.rand(out_channels, in_channels//groups, kernel_size, kernel_size)\n",
    "            \n",
    "\n",
    "        li = []\n",
    "        for l in range(out_channels):\n",
    "            feature_map = np.array([])\n",
    "            for i in range (0, matrix.shape[1]-((filter.shape[2]-1)*dilation+1)+1, stride):\n",
    "                for j in range (0, matrix.shape[2]-((filter.shape[3]-1)*dilation+1)+1, stride):\n",
    "                    summ = 0\n",
    "                    for c in range (in_channels//groups): #groups\n",
    "                        if groups>1:\n",
    "                            val = matrix[l*(in_channels//groups)+c][i:i+(filter.shape[2]-1)*dilation+1:dilation, j:j+\n",
    "                                                                    (filter.shape[3]-1)*dilation+1:dilation]\n",
    "                        else:\n",
    "                            val = matrix[c][i:i+(filter.shape[2]-1)*dilation+1:dilation, j:j+(filter.shape[3]-1)*\n",
    "                                            dilation+1:dilation]\n",
    "                        mini_sum = (val*filter[l][c]).sum()\n",
    "                        summ = summ + mini_sum\n",
    "                    feature_map = np.append(feature_map, float(summ + bias_val[l]))\n",
    "\n",
    "            li.append(feature_map.reshape((matrix.shape[1]-((filter.shape[2]-1)*dilation+1))//stride+1, \n",
    "                                          (matrix.shape[2]-((filter.shape[3]-1)*dilation+1))//stride+1))\n",
    "\n",
    "        return np.array(li), np.array(filter), np.array(bias_val)\n",
    "\n",
    "    return Conv"
   ]
  },
  {
   "cell_type": "markdown",
   "id": "0664992a",
   "metadata": {},
   "source": [
    "### Тестирование функции"
   ]
  },
  {
   "cell_type": "code",
   "execution_count": 5,
   "id": "6937bbdc",
   "metadata": {},
   "outputs": [
    {
     "data": {
      "text/plain": [
       "True"
      ]
     },
     "execution_count": 5,
     "metadata": {},
     "output_type": "execute_result"
    }
   ],
   "source": [
    "img1 = torch.rand(4, 5, 6)\n",
    "img2 = torch.rand(3, 28, 28)\n",
    "img3 = torch.rand(1, 1, 1)\n",
    "\n",
    "Func = myConv2d(in_channels=4, out_channels=2, kernel_size=3, stride=1, padding=0, dilation=1, groups=2,\n",
    "                bias=True, padding_mode='zeros')\n",
    "result, kernel, bias_val = Func(img1)\n",
    "torchFunction = torch.nn.Conv2d(in_channels=4, out_channels=2, kernel_size=3, stride=1, padding=0, dilation=1, groups=2,\n",
    "                                bias=True, padding_mode='zeros')\n",
    "torchFunction.weight.data = torch.tensor(kernel)\n",
    "torchFunction.bias.data = torch.tensor(bias_val)\n",
    "myResult = str(np.round(result, 2))\n",
    "torchResult = str(np.round(np.array(torchFunction(img1).data), 2))\n",
    "torchResult == myResult"
   ]
  },
  {
   "cell_type": "code",
   "execution_count": 6,
   "id": "12d9b6a4",
   "metadata": {},
   "outputs": [
    {
     "data": {
      "text/plain": [
       "True"
      ]
     },
     "execution_count": 6,
     "metadata": {},
     "output_type": "execute_result"
    }
   ],
   "source": [
    "Func2 = myConv2d(in_channels=3, out_channels=1, kernel_size=3, stride=1, padding=0, dilation=2, groups=1, \n",
    "                 bias=True, padding_mode='zeros')\n",
    "result2, kernel2, bias_val2 = Func2(img2)\n",
    "torchFunction2 = torch.nn.Conv2d(in_channels=3, out_channels=1, kernel_size=3, stride=1, padding=0, dilation=2, groups=1,\n",
    "                                 bias=True, padding_mode='zeros')\n",
    "torchFunction2.weight.data = torch.tensor(kernel2)\n",
    "torchFunction2.bias.data = torch.tensor(bias_val2)\n",
    "myResult = str(np.round(result2, 2))\n",
    "torchResult = str(np.round(np.array(torchFunction2(img2).data), 2))\n",
    "torchResult == myResult"
   ]
  },
  {
   "cell_type": "code",
   "execution_count": 7,
   "id": "ec3b8817",
   "metadata": {},
   "outputs": [
    {
     "data": {
      "text/plain": [
       "True"
      ]
     },
     "execution_count": 7,
     "metadata": {},
     "output_type": "execute_result"
    }
   ],
   "source": [
    "Func3 = myConv2d(in_channels=1, out_channels=1, kernel_size=1, stride=1, padding=0, dilation=1, groups=1, \n",
    "                 bias=True, padding_mode='zeros')\n",
    "result3, kernel3, bias_val3 = Func3(img3)\n",
    "torchFunction3 = torch.nn.Conv2d(in_channels=1, out_channels=1, kernel_size=1, stride=1, padding=0, dilation=1, groups=1,\n",
    "                                 bias=True, padding_mode='zeros')\n",
    "torchFunction3.weight.data = torch.tensor(kernel3)\n",
    "torchFunction3.bias.data = torch.tensor(bias_val3)\n",
    "myResult = str(np.round(result3, 2))\n",
    "torchResult = str(np.round(np.array(torchFunction3(img3).data), 2))\n",
    "torchResult == myResult"
   ]
  }
 ],
 "metadata": {
  "kernelspec": {
   "display_name": "Python 3 (ipykernel)",
   "language": "python",
   "name": "python3"
  },
  "language_info": {
   "codemirror_mode": {
    "name": "ipython",
    "version": 3
   },
   "file_extension": ".py",
   "mimetype": "text/x-python",
   "name": "python",
   "nbconvert_exporter": "python",
   "pygments_lexer": "ipython3",
   "version": "3.9.4"
  }
 },
 "nbformat": 4,
 "nbformat_minor": 5
}
