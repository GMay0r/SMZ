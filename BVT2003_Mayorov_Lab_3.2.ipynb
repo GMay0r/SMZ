{
 "cells": [
  {
   "cell_type": "markdown",
   "id": "70a60ba1",
   "metadata": {},
   "source": [
    "### Разработка нейросетевых функций. Операция Convolution Transpose"
   ]
  },
  {
   "cell_type": "markdown",
   "id": "c6f9d387",
   "metadata": {},
   "source": [
    "### Дополнительное задание"
   ]
  },
  {
   "cell_type": "markdown",
   "id": "e2923b06",
   "metadata": {},
   "source": [
    "#### Описание параметров"
   ]
  },
  {
   "cell_type": "markdown",
   "id": "07cfdd75",
   "metadata": {},
   "source": [
    "in_channels (int) – Number of channels in the input image\\\n",
    "out_channels (int) – Number of channels produced by the convolution\\\n",
    "kernel_size (int or tuple) – Size of the convolving kernel\\\n",
    "stride (int or tuple, optional) – Stride of the convolution. Default: 1\\\n",
    "padding (int, tuple or str, optional) – Padding added to all four sides of the input. Default: 0\\\n",
    "padding_mode (str, optional) – 'zeros', 'reflect', 'replicate' or 'circular'. Default: 'zeros'\\\n",
    "dilation (int or tuple, optional) – Spacing between kernel elements. Default: 1\\\n",
    "groups (int, optional) – Number of blocked connections from input channels to output channels. Default: 1\\\n",
    "bias (bool, optional) – If True, adds a learnable bias to the output. Default: True\\"
   ]
  },
  {
   "cell_type": "code",
   "execution_count": 8,
   "id": "a97ac66d",
   "metadata": {},
   "outputs": [],
   "source": [
    "import torch\n",
    "import numpy as np\n",
    "import warnings\n",
    "warnings.simplefilter(\"ignore\")\n",
    "\n",
    "def myTranspConv2d(in_channels, out_channels, kernel_size, transp_stride=1, padding=0, dilation=1, bias=True, \n",
    "                   padding_mode='zeros'):\n",
    "    def Conv(matrix):\n",
    "        stride = 1\n",
    "\n",
    "        pad = kernel_size - 1\n",
    "        result_matrix = []\n",
    "        for matr in matrix:\n",
    "            zero_tensor = np.zeros((((matr.shape[0]-1)*(transp_stride)+1), ((matr.shape[1]-1)*(transp_stride)+1)))\n",
    "            for a in range (0, zero_tensor.shape[0], transp_stride):\n",
    "                for b in range (0, zero_tensor.shape[1], transp_stride):\n",
    "                    zero_tensor[a][b] = matr[a//(transp_stride)][b//(transp_stride)]\n",
    "\n",
    "            pad_matr = np.pad(zero_tensor, pad_width=pad, mode='constant')\n",
    "            result_matrix.append(pad_matr)\n",
    "        matrix = torch.tensor(result_matrix)\n",
    "\n",
    "        if bias == True:\n",
    "            bias_val = torch.rand(out_channels)\n",
    "        else:\n",
    "            bias_val = torch.zeros(out_channels)\n",
    "\n",
    "        if (padding_mode == 'zeros'):\n",
    "            pad = torch.nn.ZeroPad2d(padding)\n",
    "            matrix = pad(matrix)\n",
    "        if (padding_mode == 'reflect'):\n",
    "            pad = torch.nn.ReflectionPad2d(padding)\n",
    "            matrix = pad(matrix)\n",
    "        if (padding_mode == 'replicate'):\n",
    "            pad = torch.nn.ReplicationPad2d(padding)\n",
    "            matrix = pad(matrix)\n",
    "        if (padding_mode == 'circular'):\n",
    "            pad = torch.nn.CircularPad2d(padding)\n",
    "            matrix = pad(matrix)\n",
    "\n",
    "        filter = np.array(torch.rand(out_channels, in_channels, kernel_size, kernel_size))\n",
    "\n",
    "        filter_for_transpose = []\n",
    "        for j in range(out_channels):\n",
    "            filter_in = []\n",
    "            for i in range(in_channels):\n",
    "                filter_in.append(np.flip(np.array(filter[j][i])))\n",
    "            filter_for_transpose.append(filter_in)\n",
    "\n",
    "        filter_for_transpose = torch.tensor(filter_for_transpose)\n",
    "        filter_for_transpose = filter_for_transpose.reshape(in_channels, out_channels, kernel_size, kernel_size)\n",
    "\n",
    "\n",
    "\n",
    "        li = []\n",
    "        for l in range(out_channels):\n",
    "            feature_map = np.array([]) \n",
    "            for i in range (0, matrix.shape[1]-((filter.shape[2]-1)*dilation+1)+1, stride): \n",
    "                for j in range (0, matrix.shape[2]-((filter.shape[3]-1)*dilation+1)+1, stride):\n",
    "                    summa = 0\n",
    "                    for c in range (in_channels):\n",
    "                        val = matrix[c][i:i+(filter.shape[2]-1)*dilation+1:dilation, j:j+(filter.shape[3]-1)*\n",
    "                                        dilation+1:dilation]\n",
    "                        mini_sum = (val*filter[l][c]).sum()\n",
    "                        summa = summa + mini_sum\n",
    "                    feature_map = np.append(feature_map, float(summa + bias_val[l])) \n",
    "            li.append(feature_map.reshape((matrix.shape[1]-((filter.shape[2]-1)*dilation+1))//stride+1,\n",
    "                                          (matrix.shape[2]-((filter.shape[3]-1)*dilation+1))//stride+1))\n",
    "\n",
    "\n",
    "        return np.array(li), torch.tensor(np.array(filter_for_transpose)), torch.tensor(np.array(bias_val))\n",
    "\n",
    "    return Conv"
   ]
  },
  {
   "cell_type": "code",
   "execution_count": 4,
   "id": "4e768982",
   "metadata": {},
   "outputs": [],
   "source": [
    "img1 = torch.rand(3, 5, 6)\n",
    "img2 = torch.rand(1, 28, 28)\n",
    "img3 = torch.rand(7, 10, 10)"
   ]
  },
  {
   "cell_type": "code",
   "execution_count": 9,
   "id": "b5e5c432",
   "metadata": {},
   "outputs": [
    {
     "data": {
      "text/plain": [
       "True"
      ]
     },
     "execution_count": 9,
     "metadata": {},
     "output_type": "execute_result"
    }
   ],
   "source": [
    "Func = myTranspConv2d(in_channels=3, out_channels=1, kernel_size=3, transp_stride=2, bias=True,)\n",
    "result, kernel, bias_val = Func(img1)\n",
    "torchFunction = torch.nn.ConvTranspose2d(in_channels=3, out_channels=1, kernel_size=3, stride=2, bias=True,)\n",
    "torchFunction.weight.data = kernel\n",
    "torchFunction.bias.data = bias_val\n",
    "myResult = str(np.round(result, 2))\n",
    "torchResult = str(np.round(np.array(torchFunction(img1).data), 2))\n",
    "torchResult == myResult"
   ]
  },
  {
   "cell_type": "code",
   "execution_count": 10,
   "id": "01ec82fa",
   "metadata": {},
   "outputs": [
    {
     "data": {
      "text/plain": [
       "True"
      ]
     },
     "execution_count": 10,
     "metadata": {},
     "output_type": "execute_result"
    }
   ],
   "source": [
    "Func2 = myTranspConv2d(in_channels=1, out_channels=2, kernel_size=4, transp_stride=3, bias=True)\n",
    "result2, kernel2, bias_val2 = Func2(img2)\n",
    "torchFunction2 = torch.nn.ConvTranspose2d(in_channels=1, out_channels=2, kernel_size=4, stride=3, bias=True)\n",
    "torchFunction2.weight.data = kernel2\n",
    "torchFunction2.bias.data = bias_val2\n",
    "myResult2 = str(np.round(result2, 2))\n",
    "torchResult2 = str(np.round(np.array(torchFunction2(img2).data), 2))\n",
    "torchResult2 == myResult2"
   ]
  },
  {
   "cell_type": "code",
   "execution_count": 11,
   "id": "c5ae13e2",
   "metadata": {},
   "outputs": [
    {
     "data": {
      "text/plain": [
       "True"
      ]
     },
     "execution_count": 11,
     "metadata": {},
     "output_type": "execute_result"
    }
   ],
   "source": [
    "Func3 = myTranspConv2d(in_channels=7, out_channels=1, kernel_size=3, transp_stride=5, bias=True)\n",
    "result3, kernel3, bias_val3 = Func3(img3)\n",
    "torchFunction3 = torch.nn.ConvTranspose2d(in_channels=7, out_channels=1, kernel_size=3, stride=5, bias=True)\n",
    "torchFunction3.weight.data = kernel3\n",
    "torchFunction3.bias.data = bias_val3\n",
    "myResult3 = str(np.round(result3, 2))\n",
    "torchResult3 = str(np.round(np.array(torchFunction3(img3).data), 2))\n",
    "torchResult3 == myResult3"
   ]
  }
 ],
 "metadata": {
  "kernelspec": {
   "display_name": "Python 3 (ipykernel)",
   "language": "python",
   "name": "python3"
  },
  "language_info": {
   "codemirror_mode": {
    "name": "ipython",
    "version": 3
   },
   "file_extension": ".py",
   "mimetype": "text/x-python",
   "name": "python",
   "nbconvert_exporter": "python",
   "pygments_lexer": "ipython3",
   "version": "3.9.4"
  }
 },
 "nbformat": 4,
 "nbformat_minor": 5
}
